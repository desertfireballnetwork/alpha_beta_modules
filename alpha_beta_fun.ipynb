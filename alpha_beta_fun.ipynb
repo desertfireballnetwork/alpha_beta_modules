{
 "cells": [
  {
   "cell_type": "markdown",
   "metadata": {},
   "source": [
    "# Alpha - Beta calculation"
   ]
  },
  {
   "cell_type": "markdown",
   "metadata": {},
   "source": [
    "This notebook allows you to calculate the basic dimensionless alpha - beta parameters for a set of fireball data after [Gritsevich 2012](https://doi.org/???). This use the eponential atmosphere simplification. To use a complete atmosphere model for your fireball, please see [Lyytinen et al. 2016](https://doi.org/10.1016/j.pss.2015.10.012)."
   ]
  },
  {
   "cell_type": "markdown",
   "metadata": {},
   "source": [
    "### Inputs:\n",
    "csv file with following column headers:\n",
    "+ velocity (or as indicated below)\n",
    "+ height (or as indicated below)\n",
    "\n",
    "### Outputs:\n",
    "ecsv file with:\n",
    "+ normalised height \n",
    "+ normalised velocity \n",
    "+ alpha and beta in metadata"
   ]
  },
  {
   "cell_type": "markdown",
   "metadata": {},
   "source": [
    "###########################################################\n",
    "## DO NOT change this section\n",
    "Please just run the cells as they are.  To run code cells, select and press shift + enter"
   ]
  },
  {
   "cell_type": "markdown",
   "metadata": {},
   "source": [
    "## Code imports\n",
    "Let's start with code imports. To run code cells, select and press shift + enter"
   ]
  },
  {
   "cell_type": "code",
   "execution_count": 1,
   "metadata": {
    "collapsed": false
   },
   "outputs": [],
   "source": [
    "# import astropy\n",
    "import scipy\n",
    "import numpy as np\n",
    "import matplotlib.pyplot as plt\n",
    "from scipy.optimize import minimize\n",
    "from astropy.table import Table\n",
    "from ipywidgets import interact, interactive, fixed, interact_manual\n",
    "import ipywidgets as widgets\n",
    "from IPython.display import FileLinks, FileLink, DisplayObject"
   ]
  },
  {
   "cell_type": "code",
   "execution_count": 2,
   "metadata": {
    "collapsed": false
   },
   "outputs": [],
   "source": [
    "matplotlib inline"
   ]
  },
  {
   "cell_type": "code",
   "execution_count": 3,
   "metadata": {
    "collapsed": true
   },
   "outputs": [],
   "source": [
    "plt.rcParams['figure.dpi'] = 100"
   ]
  },
  {
   "cell_type": "markdown",
   "metadata": {},
   "source": [
    "## Function definitions"
   ]
  },
  {
   "cell_type": "code",
   "execution_count": 4,
   "metadata": {
    "collapsed": true
   },
   "outputs": [],
   "source": [
    "def Q4_min(Vvalues, Yvalues):\n",
    "    \"\"\" initiates and calls the Q4 minimisation given in Gritsevich 2007 -\n",
    "        'Validity of the photometric formula for estimating the mass of a fireball projectile'\n",
    "    \"\"\"\n",
    "    params = np.vstack((Vvalues, Yvalues))\n",
    "\n",
    "    b0 = 1.\n",
    "    a0 = np.exp(Yvalues[-1])/(2. * b0)\n",
    "    x0 = [a0, b0]\n",
    "    xmin = [0.001, 0.00001]\n",
    "    xmax = [10000., 50.]\n",
    "\n",
    "    bnds = ((xmin[0], xmax[0]), (xmin[1], xmax[1]))\n",
    "\n",
    "    res = minimize(min_fun, x0, args=(Vvalues, Yvalues),bounds=bnds)\n",
    "    return res.x    "
   ]
  },
  {
   "cell_type": "code",
   "execution_count": 5,
   "metadata": {
    "collapsed": true
   },
   "outputs": [],
   "source": [
    "def min_fun(x, vvals, yvals):\n",
    "    \"\"\"minimises equation 7 using Q4 minimisation given in equation 10 of \n",
    "       Gritsevich 2007 - 'Validity of the photometric formula for estimating \n",
    "       the mass of a fireball projectile'\n",
    "\n",
    "    \"\"\" \n",
    "    res = 0.\n",
    "    for i in range(len(vvals)):\n",
    "        res += pow(2 * x[0] * np.exp(-yvals[i]) - (scipy.special.expi(x[1]) - scipy.special.expi(x[1]* vvals[i]**2) ) * np.exp(-x[1]) , 2)\n",
    "    #       #sum...alpha*e^-y*2                     |__________________-del______________________________________|     *e^-beta    \n",
    "        # res += (np.log(2 * x[0]) -yvals[i] - np.log(scipy.special.expi(x[1]) - scipy.special.expi(x[1]* vvals[i]**2) ) -x[1]) * 2\n",
    "    return res"
   ]
  },
  {
   "cell_type": "markdown",
   "metadata": {},
   "source": [
    "###########################################################"
   ]
  },
  {
   "cell_type": "markdown",
   "metadata": {},
   "source": [
    "## Upload data\n",
    "Now provide the path to the csv file "
   ]
  },
  {
   "cell_type": "code",
   "execution_count": 6,
   "metadata": {
    "collapsed": false
   },
   "outputs": [],
   "source": [
    "# @interact\n",
    "# def show_files(dir=os.listdir('/home/ellie/Desktop/Data')):\n",
    "#     f =FileLinks(dir, included_suffixes=\".csv\")\n"
   ]
  },
  {
   "cell_type": "code",
   "execution_count": 7,
   "metadata": {
    "collapsed": true
   },
   "outputs": [],
   "source": [
    "f = 'DN150417.csv'\n",
    "slope = 15.17"
   ]
  },
  {
   "cell_type": "markdown",
   "metadata": {},
   "source": [
    "If you would like to define an initial velocity, insert below. Otherwise, an average of first 10 data points will be used."
   ]
  },
  {
   "cell_type": "code",
   "execution_count": 30,
   "metadata": {
    "collapsed": true
   },
   "outputs": [],
   "source": [
    "v0 = []"
   ]
  },
  {
   "cell_type": "markdown",
   "metadata": {},
   "source": [
    "If you would like to change the default header names, insert here:"
   ]
  },
  {
   "cell_type": "code",
   "execution_count": 34,
   "metadata": {
    "collapsed": true
   },
   "outputs": [],
   "source": [
    "vel_col = \"D_DT_geo\"\n",
    "h_col = \"height\""
   ]
  },
  {
   "cell_type": "markdown",
   "metadata": {
    "collapsed": true
   },
   "source": [
    "######################################################\n",
    "## Just run the below!"
   ]
  },
  {
   "cell_type": "code",
   "execution_count": 35,
   "metadata": {
    "collapsed": false
   },
   "outputs": [],
   "source": [
    "data = Table.read(f, format='ascii.csv', guess=False, delimiter=',')\n",
    "slope = np.deg2rad(slope)"
   ]
  },
  {
   "cell_type": "markdown",
   "metadata": {},
   "source": [
    "## Normalising data\n",
    "This is where we create the dimensionless data. We create separate columns to mask nan/zero values.\n",
    "\n",
    "Height is normalised using the scale  height of the homogeneous atmosphere (h0=7160 km). Velocity is normalised using the initial velocity. Here we crudly use the average of the first 10 data points. For more sophisticated v0 determination, you may hardcode in the v0 value you wish to use here:"
   ]
  },
  {
   "cell_type": "code",
   "execution_count": null,
   "metadata": {
    "collapsed": false
   },
   "outputs": [],
   "source": []
  },
  {
   "cell_type": "code",
   "execution_count": 36,
   "metadata": {
    "collapsed": false
   },
   "outputs": [],
   "source": [
    "alt = []#np.asarray(data['height'])\n",
    "vel = []#np.asarray(data['D_DT_geo'])\n",
    "\n",
    "# remove any nan values\n",
    "for v in range(len(data[vel_col])):\n",
    "    if data[vel_col][v] >1.:\n",
    "        vel.append(data[vel_col][v])\n",
    "        alt.append(data[h_col][v])\n",
    "        \n",
    "# define initial velocity, if not already\n",
    "if v0 == []:\n",
    "    v0 = np.nanmean(vel[0:10])\n",
    "\n",
    "# normalise velocity\n",
    "vel = np.asarray(vel)\n",
    "alt = np.asarray(alt)\n",
    "Vvalues = vel/v0      #creates a matrix of V/Ve to give a dimensionless parameter for velocity\n",
    "\n",
    "\n",
    "# normalise height - if statement accounts for km vs. metres data values.\n",
    "if alt[0]<1000:\n",
    "    h0 = 7.160  # km\n",
    "else:\n",
    "    h0 = 7160.  # metres\n",
    "Yvalues = alt/h0  "
   ]
  },
  {
   "cell_type": "markdown",
   "metadata": {},
   "source": [
    "## Calculate alpha and beta\n",
    "This calls the Q4_min function from below. Make sure you have compile "
   ]
  },
  {
   "cell_type": "code",
   "execution_count": 37,
   "metadata": {
    "collapsed": false
   },
   "outputs": [],
   "source": [
    "Gparams= Q4_min(Vvalues, Yvalues)\n",
    "\n",
    "alpha = Gparams[0]\n",
    "beta = Gparams[1]"
   ]
  },
  {
   "cell_type": "markdown",
   "metadata": {},
   "source": [
    "Alpha and Beta values are (respectively):"
   ]
  },
  {
   "cell_type": "code",
   "execution_count": 38,
   "metadata": {
    "collapsed": false
   },
   "outputs": [
    {
     "name": "stdout",
     "output_type": "stream",
     "text": [
      "294.451599359 1.14005615987\n"
     ]
    }
   ],
   "source": [
    "print(alpha, beta)"
   ]
  },
  {
   "cell_type": "markdown",
   "metadata": {},
   "source": [
    "## Plotting"
   ]
  },
  {
   "cell_type": "code",
   "execution_count": 39,
   "metadata": {
    "collapsed": true
   },
   "outputs": [],
   "source": [
    "plt.close()\n",
    "# plt.rcParams['figure.dpi'] = 10\n",
    "plt.rcParams['figure.figsize'] = [5, 5]"
   ]
  },
  {
   "cell_type": "code",
   "execution_count": 40,
   "metadata": {
    "collapsed": true
   },
   "outputs": [],
   "source": [
    "x = np.arange(0.1,1, 0.00005);                                                                                     #create a matrix of x values\n",
    "fun = lambda x:np.log(alpha) + beta - np.log((scipy.special.expi(beta) - scipy.special.expi(beta* x**2) )/2)\n",
    "y = [fun(i) for i in x]"
   ]
  },
  {
   "cell_type": "code",
   "execution_count": 41,
   "metadata": {
    "collapsed": false,
    "scrolled": false
   },
   "outputs": [],
   "source": [
    "plt.scatter(Vvalues, Yvalues,marker='x', label=None)  \n",
    "plt.xlabel(\"normalised velocity\")\n",
    "plt.ylabel(\"normalised height\")\n",
    "plt.plot(x, y, color='r')\n",
    "# plt.xlim(0.4, 1.23)\n",
    "# plt.ylim(6, 12)\n",
    "plt.show()"
   ]
  },
  {
   "cell_type": "markdown",
   "metadata": {},
   "source": [
    "## Using alpha and beta to estimate masses"
   ]
  },
  {
   "cell_type": "markdown",
   "metadata": {},
   "source": [
    "if your point is:  \n",
    "right of the _grey_ line --> unlikely meteorite  \n",
    "left of the _black_ line  --> likely meteorite  \n",
    "in between two lines --> possible meteorite  "
   ]
  },
  {
   "cell_type": "code",
   "execution_count": 24,
   "metadata": {
    "collapsed": true
   },
   "outputs": [],
   "source": [
    "plt.close()\n",
    "plt.rcParams['figure.figsize'] = [7, 7]"
   ]
  },
  {
   "cell_type": "code",
   "execution_count": 25,
   "metadata": {
    "collapsed": false
   },
   "outputs": [
    {
     "name": "stderr",
     "output_type": "stream",
     "text": [
      "/home/ellie/anaconda3/lib/python3.6/site-packages/ipykernel/__main__.py:5: RuntimeWarning: invalid value encountered in log\n",
      "/home/ellie/anaconda3/lib/python3.6/site-packages/ipykernel/__main__.py:9: RuntimeWarning: divide by zero encountered in log\n",
      "/home/ellie/anaconda3/lib/python3.6/site-packages/ipykernel/__main__.py:9: RuntimeWarning: invalid value encountered in log\n"
     ]
    },
    {
     "data": {
      "image/png": "[encoded data removed]",
      "text/plain": [
       "<matplotlib.figure.Figure at 0x7f866047ef28>"
      ]
     },
     "metadata": {},
     "output_type": "display_data"
    }
   ],
   "source": [
    "# define x values\n",
    "x_mu = np.arange(0,10, 0.00005)\n",
    "\n",
    "# function for mu = 0, 50 g possible meteorite:\n",
    "fun_mu0 = lambda x_mu:np.log(13.2 - 3*x_mu)\n",
    "y_mu0 = [fun_mu0(i) for i in x_mu]\n",
    "\n",
    "# function for mu = 2/3, 50 g possible meteorite:\n",
    "fun_mu23 = lambda x_mu:np.log(4.4 - x_mu)\n",
    "y_mu23 = [fun_mu23(i) for i in x_mu]\n",
    "\n",
    "# plot mu0, mu2/3 lines and your poit:\n",
    "plt.plot(x_mu, y_mu0, color='grey')\n",
    "plt.plot(x_mu, y_mu23, color='k')\n",
    "plt.scatter([np.log(alpha * np.sin(slope))], [np.log(beta)], color='r')\n",
    "\n",
    "# defite plot parameters\n",
    "plt.xlim((-1, 7))\n",
    "plt.ylim((-3, 4))\n",
    "plt.xlabel(\"ln(alpha x sin(slope))\")\n",
    "plt.ylabel(\"ln(beta)\")\n",
    "plt.axes().set_aspect('equal')\n",
    "plt.show()"
   ]
  },
  {
   "cell_type": "markdown",
   "metadata": {},
   "source": [
    "## Have a play with parameters!\n",
    "masses are in grams"
   ]
  },
  {
   "cell_type": "code",
   "execution_count": 79,
   "metadata": {
    "collapsed": true
   },
   "outputs": [],
   "source": [
    "plt.close()\n",
    "plt.rcParams['figure.figsize'] = [7, 7]"
   ]
  },
  {
   "cell_type": "code",
   "execution_count": 80,
   "metadata": {
    "collapsed": false
   },
   "outputs": [
    {
     "name": "stderr",
     "output_type": "stream",
     "text": [
      "/home/ellie/anaconda3/lib/python3.6/site-packages/ipykernel/__main__.py:8: RuntimeWarning: invalid value encountered in log\n"
     ]
    },
    {
     "name": "stdout",
     "output_type": "stream",
     "text": [
      "0.000432363763473\n"
     ]
    },
    {
     "data": {
      "image/png": "[encoded data removed]",
      "text/plain": [
       "<matplotlib.figure.Figure at 0x7f4d09e71d30>"
      ]
     },
     "metadata": {},
     "output_type": "display_data"
    }
   ],
   "source": [
    "plt.close()\n",
    "def f(mf, mu, cd, rho, A):\n",
    "    rho = float(rho)\n",
    "    A = float(A)\n",
    "    mf = mf/1000.\n",
    "    m0 = (0.5 * cd * 1.29 * 7160. * A / pow(rho, 2/3))**3.\n",
    "    x = np.arange(0,10, 0.00005)\n",
    "    y = [np.log((mu - 1) * (np.log(mf/m0) + 3 * i)) for i in x]\n",
    "    \n",
    "    plt.plot(x, y, color='k')\n",
    "    \n",
    "    plt.scatter([np.log(alpha * np.sin(slope))], [np.log(beta)], color='r')\n",
    "    m_txt=pow(0.5 *  cd * 1.29 * 7160. * A / (alpha * np.sin(slope) *rho**(2/3.0)), 3.0) *np.exp(-beta/(1-mu))\n",
    "    print(m_txt)\n",
    "\n",
    "    plt.xlim((-1, 7))\n",
    "    plt.ylim((-3, 4))\n",
    "    plt.axes().set_aspect('equal')\n",
    "    plt.text(0, 3.5, \"mass given above (slider) parameters: %.1f g\" %(m_txt * 1000) )#, ha='center', va='center', transform=ax.transAxes)\n",
    "\n",
    "    plt.xlabel(\"ln(alpha x sin(slope))\")\n",
    "    plt.ylabel(\"ln(beta)\")\n",
    "    plt.show()\n",
    "\n",
    "interact(f, mf=(0, 2000, 500), mu=(0, 2/3., 1/3.), cd=(0.9, 1.5), rho=[1500,2700,3500,7000], A=[1.21, 1.5, 2.0, 3.0])\n"
   ]
  },
  {
   "cell_type": "code",
   "execution_count": 81,
   "metadata": {
    "collapsed": true
   },
   "outputs": [],
   "source": [
    "## Assumeing values:\n",
    "# atmospheric density at sea level\n",
    "sea_level_rho = 1.29\n",
    "# AERODYNAMIC drag coefficient (not Gamma)\n",
    "cd = 1.3\n",
    "# Possible shape coefficients\n",
    "A = [1.21, 1.3, 1.55]\n",
    "# possible meteoroid densities\n",
    "m_rho = [2700, 3500, 7000]\n",
    "# trajectory slope\n",
    "gamma = slope\n",
    "sin_gamma = np.sin(gamma)\n",
    "# shape change coefficient\n",
    "mu = 2./3.\n",
    "\n",
    "me_sphere = [pow(0.5 *  cd * 1.29 * 7160 * A[0] / (alpha * sin_gamma *i**(2/3.0)), 3.0) for i in m_rho]\n",
    "me_round_brick = [pow(0.5 *  cd * 1.29 * 7160 * A[1] / (alpha * sin_gamma *i**(2/3.0)), 3.0) for i in m_rho]\n",
    "me_brick = [pow(0.5 *  cd * 1.29 * 7160 * A[2] / (alpha * sin_gamma * i**(2/3.0)), 3.0) for i in m_rho]\n",
    "mf_sphere = [i * np.exp(-beta / (1-mu) *(1-Vvalues[-1]**2)) for i in me_sphere]\n",
    "mf_round_brick = [i * np.exp(-beta / (1-mu) *(1-Vvalues[-1]**2)) for i in me_round_brick]\n",
    "mf_brick = [i * np.exp(-beta / (1-mu) *(1-Vvalues[-1]**2)) for i in me_brick]\n"
   ]
  },
  {
   "cell_type": "markdown",
   "metadata": {
    "collapsed": true
   },
   "source": [
    "### Spherical body:"
   ]
  },
  {
   "cell_type": "code",
   "execution_count": 82,
   "metadata": {
    "collapsed": false
   },
   "outputs": [
    {
     "name": "stdout",
     "output_type": "stream",
     "text": [
      "Entry mass of spherical body with 3500 density =\n",
      " 0.11225499407\n",
      "\n",
      "\n",
      "Final mass of spherical body with 3500 density =\n",
      " 0.00474181246588\n"
     ]
    }
   ],
   "source": [
    "print(\"Entry mass of spherical body with 3500 density =\\n\", me_sphere[1])\n",
    "print(\"\\n\")\n",
    "print(\"Final mass of spherical body with 3500 density =\\n\",mf_sphere[1])"
   ]
  },
  {
   "cell_type": "markdown",
   "metadata": {
    "collapsed": true
   },
   "source": [
    "### Rounded brick body (typical):"
   ]
  },
  {
   "cell_type": "code",
   "execution_count": 83,
   "metadata": {
    "collapsed": false
   },
   "outputs": [
    {
     "name": "stdout",
     "output_type": "stream",
     "text": [
      "Entry mass of typical shape with 3500 density =\n",
      " 0.139212943823\n",
      "\n",
      "\n",
      "Final mass of typical shape with 3500 density =\n",
      " 0.00588055505147\n"
     ]
    }
   ],
   "source": [
    "print(\"Entry mass of typical shape with 3500 density =\\n\", me_round_brick[1])\n",
    "print(\"\\n\")\n",
    "print(\"Final mass of typical shape with 3500 density =\\n\",mf_round_brick[1])"
   ]
  },
  {
   "cell_type": "markdown",
   "metadata": {
    "collapsed": true
   },
   "source": [
    "### Brick body:"
   ]
  },
  {
   "cell_type": "code",
   "execution_count": 67,
   "metadata": {
    "collapsed": false
   },
   "outputs": [
    {
     "name": "stdout",
     "output_type": "stream",
     "text": [
      "Entry mass of brick shape with 3500 density =\n",
      " 0.23596340518\n",
      "\n",
      "\n",
      "Final mass of brick shape with 3500 density =\n",
      " 0.00996743374705\n"
     ]
    }
   ],
   "source": [
    "print(\"Entry mass of brick shape with 3500 density =\\n\", me_brick[1])\n",
    "print(\"\\n\")\n",
    "print(\"Final mass of brick shape with 3500 density =\\n\",mf_brick[1])"
   ]
  },
  {
   "cell_type": "code",
   "execution_count": null,
   "metadata": {
    "collapsed": true
   },
   "outputs": [],
   "source": []
  },
  {
   "cell_type": "code",
   "execution_count": null,
   "metadata": {
    "collapsed": true
   },
   "outputs": [],
   "source": [
    "out = astropy.table.Table(names=['alt', 'vels'], data=[alt, vel])"
   ]
  },
  {
   "cell_type": "code",
   "execution_count": null,
   "metadata": {
    "collapsed": true
   },
   "outputs": [],
   "source": [
    "out.write('/tmp/test.csv', format='csv', delimiter=',')"
   ]
  },
  {
   "cell_type": "markdown",
   "metadata": {},
   "source": [
    "################################"
   ]
  }
 ],
 "metadata": {
  "kernelspec": {
   "display_name": "Python 3",
   "language": "python",
   "name": "python3"
  },
  "language_info": {
   "codemirror_mode": {
    "name": "ipython",
    "version": 3
   },
   "file_extension": ".py",
   "mimetype": "text/x-python",
   "name": "python",
   "nbconvert_exporter": "python",
   "pygments_lexer": "ipython3",
   "version": "3.6.8"
  },
  "widgets": {
   "state": {
    "bb1eda28edb84fccb76ef0194c1dee92": {
     "views": [
      {
       "cell_index": 13
      }
     ]
    }
   },
   "version": "1.2.0"
  }
 },
 "nbformat": 4,
 "nbformat_minor": 2
}
