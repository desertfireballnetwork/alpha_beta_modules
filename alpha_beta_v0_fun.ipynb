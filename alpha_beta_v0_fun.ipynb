{
 "cells": [
  {
   "cell_type": "markdown",
   "metadata": {},
   "source": [
    "# Alpha - Beta calculation with initial velocity determination"
   ]
  },
  {
   "cell_type": "markdown",
   "metadata": {},
   "source": [
    "This notebook allows you to calculate the basic dimensionless alpha - beta parameters for a set of fireball data after [Gritsevich 2012](https://doi.org/???). This use the exponential atmosphere simplification. To use a complete atmosphere model for your fireball, please see [Lyytinen et al. 2016](https://doi.org/10.1016/j.pss.2015.10.012).\n",
    "\n",
    "It also allows you to determine the initial velocity as well as manually fit all three parameters for difficult cases. \n"
   ]
  },
  {
   "cell_type": "markdown",
   "metadata": {},
   "source": [
    "### Inputs:\n",
    "csv file with following column headers:\n",
    "+ velocity (or as indicated below)\n",
    "+ height (or as indicated below)\n",
    "\n",
    "### Outputs:\n",
    "ecsv file with:\n",
    "+ normalised height \n",
    "+ normalised velocity \n",
    "+ alpha and beta in metadata"
   ]
  },
  {
   "cell_type": "markdown",
   "metadata": {},
   "source": [
    "# Table of Contents\n",
    "preliminary sections\n",
    "\n",
    "[Code imports](#imports)\n",
    "\n",
    "[Function definitions](#functions)\n",
    "\n",
    "[Data uploads](#data)\n",
    "    \n",
    "\n",
    "\n",
    "[Section 1](#section_1) Calculate and plot $\\alpha$ and $\\beta$ values\n",
    "\n",
    "&nbsp;&nbsp;&nbsp;&nbsp;[Section 1.1](#section_1p1) Normalising data\n",
    "\n",
    "&nbsp;&nbsp;&nbsp;&nbsp;[Section 1.2](#section_1p2) Calculate $\\alpha$ and $\\beta$ values\n",
    "\n",
    "&nbsp;&nbsp;&nbsp;&nbsp;[Section 1.3](#section_1p3) Plotting\n",
    "\n",
    "\n",
    "[Section 2](#section_2) Calculate and plot $\\alpha$, $\\beta$ and $V_0$ values\n",
    "\n",
    "&nbsp;&nbsp;&nbsp;&nbsp;[Section 2.1](#section_2p1) Smoothing data\n",
    "\n",
    "&nbsp;&nbsp;&nbsp;&nbsp;[Section 2.2](#section_2p2) Calculate $\\alpha$ and $\\beta$ values\n",
    "\n",
    "&nbsp;&nbsp;&nbsp;&nbsp;[Section 2.3](#section_2p3) Plotting\n",
    "\n",
    "\n",
    "\n",
    "\n",
    "[Section 3](#section_3) Manipulate $\\alpha$, $\\beta$ and $V_0$ values manually\n",
    "\n",
    "&nbsp;&nbsp;&nbsp;&nbsp;[Section 3.1](#section_3p1) interactive $\\alpha$, $\\beta$ and $V_0$ determination\n",
    "\n",
    "&nbsp;&nbsp;&nbsp;&nbsp;[Section 3.2](#section_3p2) Interactive mass determination\n"
   ]
  },
  {
   "cell_type": "markdown",
   "metadata": {},
   "source": [
    "###########################################################\n",
    "## DO NOT change this section\n",
    "Please just run the cells as they are.  To run code cells, select and press shift + enter"
   ]
  },
  {
   "cell_type": "markdown",
   "metadata": {},
   "source": [
    "<a id=’imports’></a>\n",
    "## Code imports\n",
    "Let's start with code imports. To run code cells, select and press shift + enter"
   ]
  },
  {
   "cell_type": "code",
   "execution_count": 156,
   "metadata": {},
   "outputs": [],
   "source": [
    "# import astropy\n",
    "import scipy\n",
    "import numpy as np\n",
    "import matplotlib.pyplot as plt\n",
    "from scipy.optimize import minimize, basinhopping\n",
    "from astropy.table import Table, vstack\n",
    "from astropy import units as u\n",
    "from ipywidgets import interact, interactive, fixed, interact_manual\n",
    "import ipywidgets as widgets\n",
    "import os, glob\n",
    "from IPython.display import FileLinks, FileLink, DisplayObject\n",
    "import warnings\n",
    "warnings.filterwarnings('ignore')"
   ]
  },
  {
   "cell_type": "code",
   "execution_count": 157,
   "metadata": {},
   "outputs": [],
   "source": [
    "matplotlib inline"
   ]
  },
  {
   "cell_type": "code",
   "execution_count": 158,
   "metadata": {},
   "outputs": [],
   "source": [
    "plt.rcParams['figure.dpi'] = 100"
   ]
  },
  {
   "cell_type": "markdown",
   "metadata": {},
   "source": [
    "<a id=’functions’></a>\n",
    "##  Function definitions"
   ]
  },
  {
   "cell_type": "code",
   "execution_count": 159,
   "metadata": {},
   "outputs": [],
   "source": [
    "def Q4_min(vvals, yvals, err=[]):\n",
    "    \"\"\" initiates and calls the Q4 minimisation given in Gritsevich 2007 -\n",
    "        'Validity of the photometric formula for estimating the mass of a fireball projectile'\n",
    "    \"\"\"\n",
    "    b0 = 1.\n",
    "    a0 = np.exp(Yvalues[-1])/(2. * b0)\n",
    "    x0 = [a0, b0]\n",
    "    xmin = [0.01, 0.0001]\n",
    "    xmax = [1000., 20.]\n",
    "\n",
    "    bnds = ((xmin[0], xmax[0]), (xmin[1], xmax[1]))\n",
    "\n",
    "    res = minimize(min_fun, x0, args=(vvals, yvals, err),bounds=bnds)\n",
    "    out = res.x\n",
    "    \n",
    "    return out   \n",
    "\n",
    "def min_fun(x, vvals, yvals,err):\n",
    "    \"\"\"minimises equation 7 using Q4 minimisation given in equation 10 of \n",
    "       Gritsevich 2007 - 'Validity of the photometric formula for estimating \n",
    "       the mass of a fireball projectile'\n",
    "\n",
    "    \"\"\" \n",
    "    res = []\n",
    "    for i in range(len(vvals)):\n",
    "        vval = vvals[i]\n",
    "        res.append(pow(2 * x[0] * np.exp(-yvals[i]) - (scipy.special.expi(x[1]) - scipy.special.expi(x[1]* vval**2) ) * np.exp(-x[1]) , 2))\n",
    " \n",
    "    return np.nansum(res) "
   ]
  },
  {
   "cell_type": "code",
   "execution_count": 160,
   "metadata": {},
   "outputs": [],
   "source": [
    "def Q4_min_v(velocities, heights, h0, V0, err=[]):\n",
    "    \"\"\" initiates and calls the Q4 minimisation given in Gritsevich 2007 -\n",
    "        'Validity of the photometric formula for estimating the mass of a fireball projectile'\n",
    "    \"\"\"\n",
    "    Yvalues = [j / h0 for j in heights] # normalisation of heights here\n",
    "    b0 = 0.01\n",
    "    a0 = np.exp(Yvalues[-1])/(2. * b0)\n",
    "    x0 = [a0, b0, V0/1000]\n",
    "    xmin = [0.01, 0.0001, V0 * 0.95/1000] # /1000 is a hack to make velocities small so minimisation doesnt use stupid steps\n",
    "    xmax = [1000., 20., V0 * 1.05/1000]\n",
    "\n",
    "    bnds = ((xmin[0], xmax[0]), (xmin[1], xmax[1]), (xmin[2], xmax[2]))\n",
    "\n",
    "    res = minimize(min_fun_v, x0, args=(velocities, Yvalues, err),bounds=bnds)\n",
    "    out = res.x\n",
    "    out[2]*=1000. # fix velocities for return\n",
    "    return out   \n",
    "\n",
    "def min_fun_v(x, velocities, yvals,err):\n",
    "    \"\"\"minimises equation 7 using Q4 minimisation given in equation 10 of \n",
    "       Gritsevich 2007 - 'Validity of the photometric formula for estimating \n",
    "       the mass of a fireball projectile'\n",
    "\n",
    "    \"\"\" \n",
    "    res = []\n",
    "    for i in range(len(velocities)):\n",
    "        vval = velocities[i] / (x[2]*1000.)\n",
    "        res.append(pow(2 * x[0] * np.exp(-yvals[i]) - (scipy.special.expi(x[1]) - scipy.special.expi(x[1]* vval**2) ) * np.exp(-x[1]) , 2))\n",
    "    return np.nansum(res)"
   ]
  },
  {
   "cell_type": "markdown",
   "metadata": {},
   "source": [
    "###########################################################"
   ]
  },
  {
   "cell_type": "markdown",
   "metadata": {},
   "source": [
    "<a id=’data upload’></a>\n",
    "##  Upload data\n",
    "Now provide the path to the csv file "
   ]
  },
  {
   "cell_type": "code",
   "execution_count": 161,
   "metadata": {},
   "outputs": [],
   "source": [
    "f1 = \"DN150417.csv\"\n",
    "data = Table.read(f1, format='ascii.csv', guess=False, delimiter=',')\n",
    "slope = 50* u.deg"
   ]
  },
  {
   "cell_type": "markdown",
   "metadata": {},
   "source": [
    "If you would like to define an initial velocity, insert below. Otherwise, an average of first 10 data points will be used."
   ]
  },
  {
   "cell_type": "code",
   "execution_count": 162,
   "metadata": {},
   "outputs": [],
   "source": [
    "v0 = []"
   ]
  },
  {
   "cell_type": "markdown",
   "metadata": {},
   "source": [
    "If you would like to change the default header names, insert here:"
   ]
  },
  {
   "cell_type": "code",
   "execution_count": 163,
   "metadata": {},
   "outputs": [],
   "source": [
    "vel_col = \"D_DT_geo\"\n",
    "h_col = \"height\"\n",
    "data.sort([h_col])\n",
    "data = data[::-1]"
   ]
  },
  {
   "cell_type": "markdown",
   "metadata": {
    "collapsed": true
   },
   "source": [
    "######################################################\n",
    "<a id=’section_1’></a>\n",
    "# Section 1\n",
    "## This section calculates and plots $\\alpha$ and $\\beta$ values"
   ]
  },
  {
   "cell_type": "markdown",
   "metadata": {},
   "source": [
    "<a id=’section_1p1’></a>\n",
    "### Section 1.1 -  Normalising Data"
   ]
  },
  {
   "cell_type": "code",
   "execution_count": 164,
   "metadata": {},
   "outputs": [],
   "source": [
    "alt = []\n",
    "vel = []\n",
    "\n",
    "# remove any nan values from velocity column\n",
    "for v in range(len(data[vel_col])):\n",
    "    if data[vel_col][v] >1.:\n",
    "        vel.append(data[vel_col][v])\n",
    "        alt.append(data[h_col][v])\n",
    "\n",
    "\n",
    "vel = np.asarray(vel)\n",
    "alt = np.asarray(alt)\n",
    "        \n",
    "# approximate initial velocity, if not already given\n",
    "if v0 == []:\n",
    "    v0 = np.nanmean(vel[0:10])\n",
    "\n",
    "# normalise velocity\n",
    "Vvalues = vel/v0      #creates a matrix of V/Ve to give a dimensionless parameter for velocity\n",
    "\n",
    "# normalise height - if statement accounts for km vs. metres data values.\n",
    "# h0 is the atmospheric scale height.\n",
    "if alt[0]<1000:\n",
    "    h0 = 7.160  # km\n",
    "else:\n",
    "    h0 = 7160.  # metres\n",
    "Yvalues = alt/h0  "
   ]
  },
  {
   "cell_type": "markdown",
   "metadata": {},
   "source": [
    "<a id=’section_1p2’></a>\n",
    "### Section 1.2 - Calculate $\\alpha$ and $\\beta$ values"
   ]
  },
  {
   "cell_type": "code",
   "execution_count": 165,
   "metadata": {},
   "outputs": [
    {
     "name": "stdout",
     "output_type": "stream",
     "text": [
      "alpha = 249.63712429583973\n",
      "beta = 1.8055759868030987\n",
      "using inital velocity v0 = 18118.32807494\n",
      "\n",
      "Other useful values:\n",
      "log alpha = 5.520008360594909\n",
      "log beta = 0.5908796471433744\n",
      "log(alpha sin(slope)) = 5.253493269407853\n"
     ]
    }
   ],
   "source": [
    "Gparams= Q4_min(Vvalues, Yvalues)\n",
    "\n",
    "alpha = Gparams[0]\n",
    "beta = Gparams[1]\n",
    "print(f\"alpha = {alpha}\")\n",
    "print(f\"beta = {beta}\") \n",
    "print(f\"using inital velocity v0 = {v0}\")\n",
    "print(f\"\\nOther useful values:\")\n",
    "print(f\"log alpha = {np.log(alpha)}\")\n",
    "print(f\"log beta = {np.log(beta)}\")\n",
    "print(f\"log(alpha sin(slope)) = {np.log(alpha * np.sin(slope))}\")"
   ]
  },
  {
   "cell_type": "markdown",
   "metadata": {},
   "source": [
    "<a id=’section_1p3’></a>\n",
    "### Section 1.3 - Plotting\n",
    "#### plot the fit using the calculated  $\\alpha$ and $\\beta$ values"
   ]
  },
  {
   "cell_type": "code",
   "execution_count": 166,
   "metadata": {},
   "outputs": [],
   "source": [
    "plt.close()\n",
    "# plt.rcParams['figure.dpi'] = 10\n",
    "plt.rcParams['figure.figsize'] = [5, 5]"
   ]
  },
  {
   "cell_type": "code",
   "execution_count": 167,
   "metadata": {},
   "outputs": [],
   "source": [
    "x = np.arange(0.1,1, 0.00005);                                                                                     #create a matrix of x values\n",
    "fun = lambda x:np.log(alpha) + beta - np.log((scipy.special.expi(beta) - scipy.special.expi(beta* x**2) )/2)\n",
    "y = [fun(i) for i in x]"
   ]
  },
  {
   "cell_type": "code",
   "execution_count": 168,
   "metadata": {},
   "outputs": [
    {
     "data": {
      "image/png": "[encoded data removed]",
      "text/plain": [
       "<Figure size 500x500 with 1 Axes>"
      ]
     },
     "metadata": {
      "needs_background": "light"
     },
     "output_type": "display_data"
    }
   ],
   "source": [
    "plt.scatter(Vvalues, Yvalues,marker='x', label=None)  \n",
    "plt.xlabel(\"normalised velocity\")\n",
    "plt.ylabel(\"normalised height\")\n",
    "plt.plot(x, y, color='r')\n",
    "# plt.xlim(0.4, 1.23)\n",
    "# plt.ylim(6, 12)\n",
    "plt.show()"
   ]
  },
  {
   "cell_type": "markdown",
   "metadata": {},
   "source": [
    "#### determine the final mass, and if it lies above an expected final mass limit"
   ]
  },
  {
   "cell_type": "code",
   "execution_count": 169,
   "metadata": {},
   "outputs": [
    {
     "name": "stdout",
     "output_type": "stream",
     "text": [
      "mf = the final mass boundary limit plotted,\n",
      "mu = the shape change coefficient (2/3 for uniform ablation across the surface for high spin, 0 flow no spin and fronal ablaiton only)\n",
      "cd = the drag coefficient (1 for sphere,\n",
      "rho = the density of the meteoroid\n",
      "A = the cross sectional area to volume ratio (1.21 for sphere)\n",
      "\n",
      "\n"
     ]
    },
    {
     "data": {
      "application/vnd.jupyter.widget-view+json": {
       "model_id": "672941fa6aea429ba6e4b44d9330c938",
       "version_major": 2,
       "version_minor": 0
      },
      "text/plain": [
       "interactive(children=(IntSlider(value=1000, description='mf', max=2000, step=500), FloatSlider(value=0.3333333…"
      ]
     },
     "metadata": {},
     "output_type": "display_data"
    },
    {
     "data": {
      "text/plain": [
       "<function __main__.f(mf, mu, cd, rho, A)>"
      ]
     },
     "execution_count": 169,
     "metadata": {},
     "output_type": "execute_result"
    }
   ],
   "source": [
    "plt.close()\n",
    "print(\"mf = the final mass boundary limit plotted,\\nmu = the shape change coefficient (2/3 for uniform ablation across the surface for high spin, 0 flow no spin and fronal ablaiton only)\\ncd = the drag coefficient (1 for sphere,\\nrho = the density of the meteoroid\\nA = the cross sectional area to volume ratio (1.21 for sphere)\\n\\n\")\n",
    "def f(mf, mu, cd, rho, A):\n",
    "    fig, axs = plt.subplots(1,1)\n",
    "\n",
    "    rho = float(rho)\n",
    "    A = float(A)\n",
    "    mf = mf/1000.\n",
    "    m0 = (0.5 * cd * 1.29 * 7160. * A / pow(rho, 2/3))**3.\n",
    "    x = np.arange(-3,10, 0.00005)\n",
    "    y = [np.log((mu - 1) * (np.log(mf/m0) + 3 * i)) for i in x]\n",
    "    \n",
    "    axs.plot(x, y, color='k')\n",
    "    \n",
    "    axs.scatter([np.log(alpha * np.sin(slope))], [np.log(beta)], color='r')\n",
    "    m_txt=pow(0.5 *  cd * 1.29 * 7160. * A / (alpha * np.sin(slope) *rho**(2/3.0)), 3.0) *np.exp(-beta/(1-mu))*(1-Vvalues[-1]**2)\n",
    "\n",
    "    axs.plot([-10, 10], [0, 0], color='grey')\n",
    "    axs.plot([0, 0], [-10, 10], color='grey')\n",
    "\n",
    "    axs.set_xlim((-1, 7))\n",
    "    axs.set_ylim((-3, 4))\n",
    "    axs.set_aspect('equal')\n",
    "    plt.text(-1, 4.5, f\"final mass given above (slider) parameters: {m_txt:.1f} kg\")#, ha='center', va='center', transform=ax.transAxes)\n",
    "\n",
    "    axs.set_xlabel(\"ln(alpha x sin(slope))\")\n",
    "    axs.set_ylabel(\"ln(beta)\")\n",
    "    plt.show()\n",
    "\n",
    "interact(f, mf=(0, 2000, 500), mu=(0, 2/3., 1/3.), cd=(0.9, 1.5), rho=[3500,2700,1500,7000], A=[1.21, 1.5, 2.0, 3.0])\n"
   ]
  },
  {
   "cell_type": "markdown",
   "metadata": {},
   "source": [
    "######################################################\n",
    "<a id=’section_2’></a>\n",
    "# Section 2\n",
    "##  This section calculates and plots $\\alpha$, $\\beta$ and $V_0$ values"
   ]
  },
  {
   "cell_type": "markdown",
   "metadata": {},
   "source": [
    "<a id=’section_2p1’></a>\n",
    "### Section 2.1 - smoothing data"
   ]
  },
  {
   "cell_type": "code",
   "execution_count": 170,
   "metadata": {},
   "outputs": [],
   "source": [
    "alt1 = []\n",
    "vel1 = []\n",
    "\n",
    "# smooth data\n",
    "for v in range(1, len(vel)-1):\n",
    "    vel1.append((vel[v-1]+vel[v]+vel[v+1]) / 3)\n",
    "    alt1.append(alt[v])\n",
    "\n",
    "alt_smooth = []\n",
    "vel_smooth = []   \n",
    "\n",
    "# smooth data again\n",
    "for v in range(1, len(vel1)-1):\n",
    "    vel_smooth.append((vel1[v-1]+vel1[v]+vel1[v+1]) / 3)\n",
    "    alt_smooth.append(alt1[v])\n",
    "        \n",
    "# define initial velocity, if not already\n",
    "if v0 == []:\n",
    "    v0 = np.nanmean(vel[0:10])\n",
    "\n",
    "vel_smooth = np.asarray(vel_smooth)\n",
    "alt_smooth = np.asarray(alt_smooth)\n"
   ]
  },
  {
   "cell_type": "markdown",
   "metadata": {},
   "source": [
    "<a id=’section_2p2’></a>\n",
    "### Section 2.2 - Calculate $\\alpha$,  $\\beta$ and $V_0$ values\n",
    "This calls the Q4_min_v function "
   ]
  },
  {
   "cell_type": "code",
   "execution_count": 171,
   "metadata": {
    "scrolled": true
   },
   "outputs": [
    {
     "name": "stdout",
     "output_type": "stream",
     "text": [
      "alpha = 236.9584348164065\n",
      "beta = 1.9425850138522684\n",
      "v0 = 17937.738564339277\n",
      "\n",
      "Other useful values:\n",
      "log alpha = 5.520008360594909\n",
      "log beta = 0.5908796471433744\n",
      "log(alpha sin(slope)) = 5.253493269407853\n"
     ]
    }
   ],
   "source": [
    "Gparams= Q4_min_v(vel_smooth, alt_smooth, h0, v0)\n",
    "\n",
    "alpha_2 = Gparams[0]\n",
    "beta_2 = Gparams[1]\n",
    "v0_calc = Gparams[2]\n",
    "\n",
    "Yvalues = [j / h0 for j in alt]\n",
    "Vvalues = [j / v0_calc for j in vel]\n",
    "\n",
    "print(f\"alpha = {alpha_2}\")\n",
    "print(f\"beta = {beta_2}\") \n",
    "print(f\"v0 = {v0_calc}\")\n",
    "\n",
    "\n",
    "print(f\"\\nOther useful values:\")\n",
    "print(f\"log alpha = {np.log(alpha)}\")\n",
    "print(f\"log beta = {np.log(beta)}\")\n",
    "print(f\"log(alpha sin(slope)) = {np.log(alpha * np.sin(slope))}\")\n"
   ]
  },
  {
   "cell_type": "markdown",
   "metadata": {},
   "source": [
    "<a id=’section_2p3’></a>\n",
    "### Section 2.3 -  Plotting"
   ]
  },
  {
   "cell_type": "code",
   "execution_count": 172,
   "metadata": {},
   "outputs": [],
   "source": [
    "plt.close()\n",
    "# plt.rcParams['figure.dpi'] = 10\n",
    "plt.rcParams['figure.figsize'] = [5, 5]"
   ]
  },
  {
   "cell_type": "code",
   "execution_count": 173,
   "metadata": {},
   "outputs": [],
   "source": [
    "x = np.arange(0.1,1, 0.00005);                                                                                     #create a matrix of x values\n",
    "fun = lambda x:np.log(alpha_2) + beta_2 - np.log((scipy.special.expi(beta_2) - scipy.special.expi(beta_2* x**2) )/2)\n",
    "y = [fun(i) for i in x]"
   ]
  },
  {
   "cell_type": "code",
   "execution_count": 174,
   "metadata": {
    "scrolled": false
   },
   "outputs": [
    {
     "data": {
      "image/png": "[encoded data removed]",
      "text/plain": [
       "<Figure size 500x500 with 1 Axes>"
      ]
     },
     "metadata": {
      "needs_background": "light"
     },
     "output_type": "display_data"
    }
   ],
   "source": [
    "plt.scatter(Vvalues, Yvalues,marker='x', label=None)  \n",
    "plt.xlabel(\"normalised velocity\")\n",
    "plt.ylabel(\"normalised height\")\n",
    "plt.plot(x, y, color='r')\n",
    "# plt.xlim(0.4, 1.23)\n",
    "# plt.ylim(6, 12)\n",
    "plt.show()"
   ]
  },
  {
   "cell_type": "markdown",
   "metadata": {},
   "source": [
    "#### determine the final mass, and if it lies above an expected final mass limit"
   ]
  },
  {
   "cell_type": "code",
   "execution_count": 175,
   "metadata": {},
   "outputs": [
    {
     "name": "stdout",
     "output_type": "stream",
     "text": [
      "mf = the final mass boundary limit plotted,\n",
      "mu = the shape change coefficient (2/3 for uniform ablation across the surface for high spin, 0 flow no spin and fronal ablaiton only)\n",
      "cd = the drag coefficient (1 for sphere,\n",
      "rho = the density of the meteoroid\n",
      "A = the cross sectional area to volume ratio (1.21 for sphere)\n",
      "\n",
      "\n"
     ]
    },
    {
     "data": {
      "application/vnd.jupyter.widget-view+json": {
       "model_id": "f5d4e9a5cd8b4075a7fc5de648c1ae13",
       "version_major": 2,
       "version_minor": 0
      },
      "text/plain": [
       "interactive(children=(IntSlider(value=1000, description='mf', max=2000, step=500), FloatSlider(value=0.3333333…"
      ]
     },
     "metadata": {},
     "output_type": "display_data"
    },
    {
     "data": {
      "text/plain": [
       "<function __main__.f(mf, mu, cd, rho, A)>"
      ]
     },
     "execution_count": 175,
     "metadata": {},
     "output_type": "execute_result"
    }
   ],
   "source": [
    "plt.close()\n",
    "print(\"mf = the final mass boundary limit plotted,\\nmu = the shape change coefficient (2/3 for uniform ablation across the surface for high spin, 0 flow no spin and fronal ablaiton only)\\ncd = the drag coefficient (1 for sphere,\\nrho = the density of the meteoroid\\nA = the cross sectional area to volume ratio (1.21 for sphere)\\n\\n\")\n",
    "def f(mf, mu, cd, rho, A):\n",
    "    fig, axs = plt.subplots(1,1)\n",
    "\n",
    "    rho = float(rho)\n",
    "    A = float(A)\n",
    "    mf = mf/1000.\n",
    "    m0 = (0.5 * cd * 1.29 * 7160. * A / pow(rho, 2/3))**3.\n",
    "    x = np.arange(-3,10, 0.00005)\n",
    "    y = [np.log((mu - 1) * (np.log(mf/m0) + 3 * i)) for i in x]\n",
    "    \n",
    "    axs.plot(x, y, color='k')\n",
    "    \n",
    "    axs.scatter([np.log(alpha_2 * np.sin(slope))], [np.log(beta_2)], color='r')\n",
    "    m_txt=pow(0.5 *  cd * 1.29 * 7160. * A / (alpha_2 * np.sin(slope) *rho**(2/3.0)), 3.0) *np.exp(-beta_2/(1-mu))*(1-Vvalues[-1]**2)\n",
    "\n",
    "    axs.plot([-10, 10], [0, 0], color='grey')\n",
    "    axs.plot([0, 0], [-10, 10], color='grey')\n",
    "\n",
    "    axs.set_xlim((-1, 7))\n",
    "    axs.set_ylim((-5, 5))\n",
    "    axs.set_aspect('equal')\n",
    "    plt.text(-1, 5.5, f\"final mass given above (slider) parameters: {m_txt:.1f} kg\")#, ha='center', va='center', transform=ax.transAxes)\n",
    "\n",
    "    axs.set_xlabel(\"ln(alpha x sin(slope))\")\n",
    "    axs.set_ylabel(\"ln(beta)\")\n",
    "    plt.show()\n",
    "\n",
    "interact(f, mf=(0, 2000, 500), mu=(0, 2/3., 1/3.), cd=(0.9, 1.5), rho=[3500,2700,1500,7000], A=[1.21, 1.5, 2.0, 3.0])\n"
   ]
  },
  {
   "cell_type": "markdown",
   "metadata": {},
   "source": [
    "######################################################\n",
    "<a id=’section_3’></a>\n",
    "# Section 3\n",
    "##  This section allows you to manipulate $\\alpha$, $\\beta$ and $V_0$ values"
   ]
  },
  {
   "cell_type": "markdown",
   "metadata": {},
   "source": [
    "<a id=’section_3p1’></a>\n",
    "### Section 3.1 - interactive $\\alpha$, $\\beta$ and $V_0$ determination"
   ]
  },
  {
   "cell_type": "code",
   "execution_count": 176,
   "metadata": {},
   "outputs": [
    {
     "data": {
      "application/vnd.jupyter.widget-view+json": {
       "model_id": "3ef44f6122de42058e10a8cc5e15f6ed",
       "version_major": 2,
       "version_minor": 0
      },
      "text/plain": [
       "interactive(children=(FloatSlider(value=17718.86928216964, description='V0', max=26906.607846508916, min=8968.…"
      ]
     },
     "metadata": {},
     "output_type": "display_data"
    }
   ],
   "source": [
    "plt.close()\n",
    "x = np.arange(0.1,1, 0.00005);                                                                                     #create a matrix of x values\n",
    "\n",
    "\n",
    "def f(V0,alpha, beta):#, mu, cd):#, rho, A):\n",
    "    cd = 1\n",
    "    A = 1.21\n",
    "    rho = 3500\n",
    "    mu =2/3.\n",
    "    yvalues = [j / h0 for j in alt]\n",
    "    vvalues = [j / V0 for j in vel]\n",
    "    \n",
    "    res = min_fun_v([alpha, beta, V0/1000.], vel, yvalues, [])\n",
    "    \n",
    "    plt.scatter(vvalues, yvalues,marker='x', label=None)  \n",
    "    y = np.log(alpha) + beta - np.log((scipy.special.expi(beta) - scipy.special.expi(beta* x**2) )/2)\n",
    "    \n",
    "    plt.plot(x, y, color='k')\n",
    "\n",
    "    rho = float(rho)\n",
    "    A = float(A)\n",
    "    m0 = (0.5 * cd * 1.29 * 7160. * A / pow(rho, 2/3))**3.\n",
    "\n",
    "    \n",
    "#     m_f = np.exp(-beta/(1-mu) * (1-Vvalues[-1]**2)) * pow(0.5 *  cd * 1.29 * 7160. * A / (rho**(2/3.0) *np.sin(slope) * alpha, 3))\n",
    "    me_txt=pow(0.5 *  cd * 1.29 * 7160. * A / (alpha * np.sin(slope) *rho**(2/3.0)), 3.0)# *np.exp(-beta/(1-mu))*(1-vvalues[-1]**2)\n",
    "\n",
    "    plt.text(0.2, 18.5, \"residual fit = {}\".format(res))\n",
    "    plt.text(0.2, 18, \"final mass given default parameters: %.1f g\" %(me_txt * 1000) )#, ha='center', va='center', transform=ax.transAxes)\n",
    "    plt.show()\n",
    "    return(alpha, beta, V0)\n",
    "\n",
    "\n",
    "\n",
    "## this line runs the interact function. It is designed to take the calculated values from previous section as inputs\n",
    "## if you would like to set your own slider limits, please use the second function call line below\n",
    "out = interact(f,V0=(v0_calc*.5,v0_calc*1.5, 250.), alpha=(alpha_2*.1,alpha_2*1.9, 0.25), beta=(beta_2*.5, beta_2*1.5, 0.1))\n",
    "\n",
    "\n",
    "\n",
    "## uncomment this section if you would like to set your own slider limits\n",
    "# v0_min = \n",
    "# v0_max = \n",
    "# alpha_min = \n",
    "# alpha_max = \n",
    "# beta_min = \n",
    "# beta_max = \n",
    "# out = interact(f,V0=(v0_min,v0_max, 250.), alpha=(alpha_min, alpha_max, 0.25), beta=(beta_min, beta_max, 0.1))\n"
   ]
  },
  {
   "cell_type": "code",
   "execution_count": 177,
   "metadata": {},
   "outputs": [],
   "source": [
    "alpha_fit = out.widget.result[0]\n",
    "beta_fit = out.widget.result[1]\n",
    "v0_fit = out.widget.result[2]"
   ]
  },
  {
   "cell_type": "markdown",
   "metadata": {},
   "source": [
    "<a id=’section_3p2’></a>\n",
    "### Section 3.2 - interactive mass determination"
   ]
  },
  {
   "cell_type": "code",
   "execution_count": 180,
   "metadata": {},
   "outputs": [
    {
     "name": "stdout",
     "output_type": "stream",
     "text": [
      "mf = the final mass boundary limit plotted,\n",
      "mu = the shape change coefficient (2/3 for uniform ablation across the surface for high spin, 0 flow no spin and fronal ablaiton only)\n",
      "cd = the drag coefficient (1 for sphere,\n",
      "rho = the density of the meteoroid\n",
      "A = the cross sectional area to volume ratio (1.21 for sphere)\n",
      "\n",
      "\n"
     ]
    },
    {
     "data": {
      "application/vnd.jupyter.widget-view+json": {
       "model_id": "209c4b2b06f049e7b9996767e7e74cae",
       "version_major": 2,
       "version_minor": 0
      },
      "text/plain": [
       "interactive(children=(IntSlider(value=1000, description='mf', max=2000, step=500), FloatSlider(value=0.3333333…"
      ]
     },
     "metadata": {},
     "output_type": "display_data"
    },
    {
     "data": {
      "text/plain": [
       "<function __main__.f(mf, mu, cd, rho, A)>"
      ]
     },
     "execution_count": 180,
     "metadata": {},
     "output_type": "execute_result"
    }
   ],
   "source": [
    "plt.close()\n",
    "print(\"mf = the final mass boundary limit plotted,\\nmu = the shape change coefficient (2/3 for uniform ablation across the surface for high spin, 0 flow no spin and fronal ablaiton only)\\ncd = the drag coefficient (1 for sphere,\\nrho = the density of the meteoroid\\nA = the cross sectional area to volume ratio (1.21 for sphere)\\n\\n\")\n",
    "def f(mf, mu, cd, rho, A):\n",
    "    fig, axs = plt.subplots(1,1)\n",
    "\n",
    "    rho = float(rho)\n",
    "    A = float(A)\n",
    "    mf = mf/1000.\n",
    "    m0 = (0.5 * cd * 1.29 * 7160. * A / pow(rho, 2/3))**3.\n",
    "    x = np.arange(-3,10, 0.00005)\n",
    "    y = [np.log((mu - 1) * (np.log(mf/m0) + 3 * i)) for i in x]\n",
    "    \n",
    "    axs.plot(x, y, color='k')\n",
    "    \n",
    "    axs.scatter([np.log(alpha_fit * np.sin(slope))], [np.log(beta_fit)], color='r')\n",
    "    m_txt=pow(0.5 *  cd * 1.29 * 7160. * A / (alpha_fit * np.sin(slope) *rho**(2/3.0)), 3.0) *np.exp(-beta_fit/(1-mu))*(1-Vvalues[-1]**2)\n",
    "\n",
    "    axs.plot([-10, 10], [0, 0], color='grey')\n",
    "    axs.plot([0, 0], [-10, 10], color='grey')\n",
    "\n",
    "    axs.set_xlim((-1, 7))\n",
    "    axs.set_ylim((-5, 5))\n",
    "    axs.set_aspect('equal')\n",
    "    plt.text(-1, 5.5, f\"final mass given above (slider) parameters: {m_txt:.1f} kg\")#, ha='center', va='center', transform=ax.transAxes)\n",
    "\n",
    "    axs.set_xlabel(\"ln(alpha x sin(slope))\")\n",
    "    axs.set_ylabel(\"ln(beta)\")\n",
    "    plt.show()\n",
    "\n",
    "interact(f, mf=(0, 2000, 500), mu=(0, 2/3., 1/3.), cd=(0.9, 1.5), rho=[3500,2700,1500,7000], A=[1.21, 1.5, 2.0, 3.0])\n"
   ]
  },
  {
   "cell_type": "markdown",
   "metadata": {},
   "source": [
    "## End of notebook"
   ]
  },
  {
   "cell_type": "code",
   "execution_count": null,
   "metadata": {},
   "outputs": [],
   "source": []
  },
  {
   "cell_type": "code",
   "execution_count": null,
   "metadata": {},
   "outputs": [],
   "source": []
  }
 ],
 "metadata": {
  "kernelspec": {
   "display_name": "Python 3",
   "language": "python",
   "name": "python3"
  },
  "language_info": {
   "codemirror_mode": {
    "name": "ipython",
    "version": 3
   },
   "file_extension": ".py",
   "mimetype": "text/x-python",
   "name": "python",
   "nbconvert_exporter": "python",
   "pygments_lexer": "ipython3",
   "version": "3.7.10"
  }
 },
 "nbformat": 4,
 "nbformat_minor": 2
}
